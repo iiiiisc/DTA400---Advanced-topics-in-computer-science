{
 "cells": [
  {
   "cell_type": "code",
   "execution_count": 4,
   "id": "24712089-863b-4910-9ddf-aef0018288d5",
   "metadata": {},
   "outputs": [
    {
     "name": "stdout",
     "output_type": "stream",
     "text": [
      "År: 0 - Antal vuxna: 5000 - Antal kalvar: 1000\n",
      "År: 1 - Antal vuxna: 3000 - Antal kalvar: 3000\n",
      "År: 2 - Antal vuxna: 3000 - Antal kalvar: 3000\n",
      "År: 3 - Antal vuxna: 3000 - Antal kalvar: 3000\n",
      "År: 4 - Antal vuxna: 3000 - Antal kalvar: 3000\n",
      "År: 5 - Antal vuxna: 3000 - Antal kalvar: 3000\n",
      "År: 6 - Antal vuxna: 3000 - Antal kalvar: 3000\n",
      "År: 7 - Antal vuxna: 3000 - Antal kalvar: 3000\n",
      "År: 8 - Antal vuxna: 3000 - Antal kalvar: 3000\n",
      "År: 9 - Antal vuxna: 3000 - Antal kalvar: 3000\n"
     ]
    },
    {
     "data": {
      "image/png": "[encoded data removed]",
      "text/plain": [
       "<Figure size 640x480 with 1 Axes>"
      ]
     },
     "metadata": {},
     "output_type": "display_data"
    }
   ],
   "source": [
    "# Älgar föds och dör varje år\n",
    "# X antal skjuts ihjäl varje år\n",
    "# Vi varierar antalet skjutna älgar och ser vad som händer med matplotlib\n",
    "\n",
    "import matplotlib.pyplot as plt\n",
    "%matplotlib inline\n",
    "import simpy\n",
    "\n",
    "SIM_TIME = 10\n",
    "START_KALVAR = 1000 # Älgar räknas som kalvar under sitt första levnadsår\n",
    "START_VUXNA = 5000 \n",
    "\n",
    "class skogen(object):\n",
    "    def __init__(self, env, antal_vuxna, antal_kalvar):\n",
    "        self.env = env\n",
    "        self.vuxna = antal_vuxna\n",
    "        self.kalvar = antal_kalvar\n",
    "\n",
    "    def __str__(self):\n",
    "        plt.plot(self.env.now, self.vuxna)\n",
    "        return f'År: {self.env.now} - Antal vuxna: {int(self.vuxna)} - Antal kalvar: {int(self.kalvar)}'\n",
    "\n",
    "    def addera(self):\n",
    "        # Fjolårets kalvar flyttas upp till vuxengruppen\n",
    "        self.vuxna += self.kalvar\n",
    "        self.kalvar = 0\n",
    "        # Här föds nya kalvar\n",
    "        self.kalvar += (self.vuxna/2)\n",
    "        return\n",
    "\n",
    "    def minska(self):\n",
    "        # Naturlig minskning varje år\n",
    "        self.vuxna -= (self.vuxna/2)\n",
    "        return\n",
    "\n",
    "    def skjuta(self):\n",
    "        # Avskjutning varje år\n",
    "        return\n",
    "\n",
    "def cykel(env):\n",
    "    # Funktionen simulerar 1 år.\n",
    "    while True:\n",
    "        print(skog)\n",
    "        skog.addera()\n",
    "        skog.minska()\n",
    "        skog.skjuta()\n",
    "        yield env.timeout(1)\n",
    "\n",
    "\n",
    "env = simpy.Environment()\n",
    "skog = skogen(env, START_VUXNA, START_KALVAR)\n",
    "env.process(cykel(env))\n",
    "env.run(until=SIM_TIME)"
   ]
  },
  {
   "cell_type": "code",
   "execution_count": null,
   "id": "e7f8c928-2ade-4ff9-98f0-cff42e2e4109",
   "metadata": {},
   "outputs": [],
   "source": []
  }
 ],
 "metadata": {
  "kernelspec": {
   "display_name": "Python 3 (ipykernel)",
   "language": "python",
   "name": "python3"
  },
  "language_info": {
   "codemirror_mode": {
    "name": "ipython",
    "version": 3
   },
   "file_extension": ".py",
   "mimetype": "text/x-python",
   "name": "python",
   "nbconvert_exporter": "python",
   "pygments_lexer": "ipython3",
   "version": "3.11.6"
  }
 },
 "nbformat": 4,
 "nbformat_minor": 5
}
